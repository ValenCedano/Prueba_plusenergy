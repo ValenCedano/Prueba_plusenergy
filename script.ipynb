{
 "cells": [
  {
   "cell_type": "code",
   "execution_count": 1,
   "metadata": {},
   "outputs": [],
   "source": [
    "# Importacion de Librerias\n",
    "import sqlite3\n",
    "import requests\n",
    "import os\n",
    "import json\n",
    "import pandas as pd\n",
    "import numpy as np\n",
    "import matplotlib.pyplot as plt"
   ]
  },
  {
   "cell_type": "markdown",
   "metadata": {},
   "source": [
    "### Consumo de la API"
   ]
  },
  {
   "cell_type": "code",
   "execution_count": 2,
   "metadata": {},
   "outputs": [
    {
     "name": "stdout",
     "output_type": "stream",
     "text": [
      "Datos obtenidos correctamente: {'message': 'Datos de precios recuperados exitosamente', 'data': {'2024-03-15': {'01:00': 551.7, '02:00': 551.7, '03:00': 551.7, '04:00': 497.36, '05:00': 551.7, '06:00': 551.7, '07:00': 551.7, '08:00': 569.0, '09:00': 571.7, '10:00': 551.7, '11:00': 551.7, '12:00': 551.7, '13:00': 551.7, '14:00': 551.7, '15:00': 569.0, '16:00': 571.7, '17:00': 571.7, '18:00': 571.7, '19:00': 572.7, '20:00': 572.7, '21:00': 572.7, '22:00': 571.7, '23:00': 551.7, '24:00': 551.7}, '2024-03-16': {'01:00': 568.32, '02:00': 568.32, '03:00': 568.32, '04:00': 566.12, '05:00': 566.12, '06:00': 568.32, '07:00': 568.32, '08:00': 568.32, '09:00': 568.32, '10:00': 568.32, '11:00': 568.32, '12:00': 568.82, '13:00': 568.82, '14:00': 568.32, '15:00': 568.82, '16:00': 568.82, '17:00': 583.82, '18:00': 583.82, '19:00': 597.82, '20:00': 597.82, '21:00': 597.82, '22:00': 597.82, '23:00': 568.82, '24:00': 568.32}, '2024-03-17': {'01:00': 589.99, '02:00': 568.49, '03:00': 568.49, '04:00': 568.49, '05:00': 568.49, '06:00': 568.49, '07:00': 568.49, '08:00': 568.49, '09:00': 568.49, '10:00': 568.49, '11:00': 568.49, '12:00': 568.49, '13:00': 588.99, '14:00': 588.99, '15:00': 568.49, '16:00': 588.99, '17:00': 589.99, '18:00': 595.99, '19:00': 597.99, '20:00': 597.99, '21:00': 597.99, '22:00': 597.99, '23:00': 597.99, '24:00': 597.99}, '2024-03-19': {'01:00': 595.36, '02:00': 574.36, '03:00': 574.36, '04:00': 574.36, '05:00': 574.36, '06:00': 595.36, '07:00': 598.36, '08:00': 598.36, '09:00': 608.36, '10:00': 625.36, '11:00': 625.36, '12:00': 626.36, '13:00': 625.36, '14:00': 626.36, '15:00': 630.36, '16:00': 649.36, '17:00': 649.36, '18:00': 630.36, '19:00': 654.36, '20:00': 654.36, '21:00': 654.36, '22:00': 649.36, '23:00': 625.36, '24:00': 598.36}, '2024-03-20': {'01:00': 641.97, '02:00': 630.77, '03:00': 571.77, '04:00': 550.77, '05:00': 550.77, '06:00': 628.77, '07:00': 628.77, '08:00': 628.77, '09:00': 630.77, '10:00': 628.77, '11:00': 630.77, '12:00': 630.77, '13:00': 630.77, '14:00': 630.77, '15:00': 641.97, '16:00': 641.97, '17:00': 645.77, '18:00': 641.97, '19:00': 641.97, '20:00': 645.77, '21:00': 641.97, '22:00': 641.97, '23:00': 628.77, '24:00': 628.77}, '2024-03-21': {'01:00': 658.67, '02:00': 658.67, '03:00': 641.79, '04:00': 641.79, '05:00': 641.79, '06:00': 658.67, '07:00': 658.67, '08:00': 641.79, '09:00': 641.79, '10:00': 641.79, '11:00': 641.79, '12:00': 658.67, '13:00': 658.67, '14:00': 658.67, '15:00': 658.67, '16:00': 658.67, '17:00': 658.67, '18:00': 658.67, '19:00': 665.67, '20:00': 668.67, '21:00': 668.67, '22:00': 658.67, '23:00': 658.67, '24:00': 641.79}, '2024-03-22': {'01:00': 713.51, '02:00': 708.51, '03:00': 696.51, '04:00': 696.51, '05:00': 708.51, '06:00': 671.51, '07:00': 671.51, '08:00': 671.51, '09:00': 671.51, '10:00': 696.51, '11:00': 713.51, '12:00': 713.51, '13:00': 713.51, '14:00': 713.51, '15:00': 713.51, '16:00': 718.51, '17:00': 728.64, '18:00': 728.64, '19:00': 728.64, '20:00': 728.64, '21:00': 728.64, '22:00': 713.51, '23:00': 713.51, '24:00': 708.51}, '2024-03-23': {'01:00': 773.68, '02:00': 718.87, '03:00': 718.87, '04:00': 718.87, '05:00': 718.87, '06:00': 718.87, '07:00': 464.95, '08:00': 638.68, '09:00': 718.87, '10:00': 638.68, '11:00': 718.87, '12:00': 718.87, '13:00': 718.87, '14:00': 718.87, '15:00': 718.87, '16:00': 718.87, '17:00': 718.87, '18:00': 718.87, '19:00': 799.68, '20:00': 798.68, '21:00': 773.68, '22:00': 773.68, '23:00': 718.87, '24:00': 718.87}, '2024-03-24': {'01:00': 729.05, '02:00': 729.05, '03:00': 717.16, '04:00': 716.96, '05:00': 700.96, '06:00': 558.89, '07:00': 517.22, '08:00': 528.23, '09:00': 528.23, '10:00': 558.89, '11:00': 567.74, '12:00': 567.74, '13:00': 638.96, '14:00': 638.96, '15:00': 638.96, '16:00': 638.96, '17:00': 638.96, '18:00': 700.96, '19:00': 717.16, '20:00': 729.05, '21:00': 729.05, '22:00': 717.16, '23:00': 717.16, '24:00': 716.96}, '2024-03-25': {'01:00': 787.54, '02:00': 758.54, '03:00': 719.54, '04:00': 719.54, '05:00': 658.54, '06:00': 658.54, '07:00': 658.54, '08:00': 658.54, '09:00': 658.54, '10:00': 658.54, '11:00': 718.54, '12:00': 719.54, '13:00': 719.54, '14:00': 719.54, '15:00': 719.54, '16:00': 719.54, '17:00': 758.54, '18:00': 723.54, '19:00': 838.54, '20:00': 848.54, '21:00': 848.54, '22:00': 838.54, '23:00': 787.54, '24:00': 758.54}, '2024-03-26': {'01:00': 848.49, '02:00': 838.49, '03:00': 838.49, '04:00': 838.49, '05:00': 802.86, '06:00': 787.49, '07:00': 798.49, '08:00': 798.49, '09:00': 838.49, '10:00': 838.49, '11:00': 838.49, '12:00': 838.49, '13:00': 838.49, '14:00': 848.49, '15:00': 848.49, '16:00': 853.49, '17:00': 853.49, '18:00': 853.49, '19:00': 853.49, '20:00': 853.49, '21:00': 853.49, '22:00': 848.49, '23:00': 838.49, '24:00': 823.49}, '2024-03-27': {'01:00': 993.44, '02:00': 988.44, '03:00': 858.44, '04:00': 858.44, '05:00': 858.44, '06:00': 858.44, '07:00': 858.44, '08:00': 858.44, '09:00': 858.44, '10:00': 858.44, '11:00': 858.44, '12:00': 988.44, '13:00': 858.44, '14:00': 988.44, '15:00': 988.44, '16:00': 988.44, '17:00': 988.44, '18:00': 993.44, '19:00': 1013.44, '20:00': 1013.44, '21:00': 1013.44, '22:00': 1008.44, '23:00': 858.44, '24:00': 858.44}, '2024-03-28': {'01:00': 1014.96, '02:00': 981.55, '03:00': 863.83, '04:00': 863.83, '05:00': 863.83, '06:00': 863.83, '07:00': 858.83, '08:00': 598.83, '09:00': 598.83, '10:00': 548.83, '11:00': 598.83, '12:00': 848.83, '13:00': 848.83, '14:00': 858.83, '15:00': 858.83, '16:00': 858.83, '17:00': 858.83, '18:00': 858.83, '19:00': 863.83, '20:00': 1014.96, '21:00': 1014.96, '22:00': 1014.96, '23:00': 1014.96, '24:00': 858.83}, '2024-03-29': {'01:00': 858.96, '02:00': 823.46, '03:00': 823.46, '04:00': 823.46, '05:00': 823.46, '06:00': 823.46, '07:00': 787.46, '08:00': 787.46, '09:00': 688.89, '10:00': 648.4, '11:00': 688.89, '12:00': 796.72, '13:00': 823.46, '14:00': 823.46, '15:00': 823.46, '16:00': 823.46, '17:00': 823.46, '18:00': 858.96, '19:00': 858.96, '20:00': 858.96, '21:00': 858.96, '22:00': 858.96, '23:00': 858.96, '24:00': 858.96}, '2024-03-30': {'01:00': 698.69, '02:00': 698.69, '03:00': 698.69, '04:00': 698.69, '05:00': 698.69, '06:00': 698.69, '07:00': 698.69, '08:00': 698.69, '09:00': 698.69, '10:00': 698.69, '11:00': 748.69, '12:00': 751.69, '13:00': 751.69, '14:00': 751.69, '15:00': 751.69, '16:00': 751.69, '17:00': 819.9, '18:00': 828.69, '19:00': 828.69, '20:00': 828.69, '21:00': 828.69, '22:00': 828.69, '23:00': 828.69, '24:00': 828.69}, '2024-03-31': {'01:00': 749.32, '02:00': 699.2, '03:00': 689.2, '04:00': 689.2, '05:00': 689.2, '06:00': 689.2, '07:00': 689.2, '08:00': 689.2, '09:00': 689.2, '10:00': 689.2, '11:00': 689.2, '12:00': 689.2, '13:00': 689.2, '14:00': 698.2, '15:00': 698.2, '16:00': 698.2, '17:00': 699.2, '18:00': 749.32, '19:00': 751.2, '20:00': 751.2, '21:00': 751.2, '22:00': 751.2, '23:00': 749.32, '24:00': 749.32}, '2024-04-01': {'01:00': 765.67, '02:00': 765.67, '03:00': 765.67, '04:00': 765.67, '05:00': 765.67, '06:00': 765.67, '07:00': 765.67, '08:00': 785.67, '09:00': 785.67, '10:00': 785.67, '11:00': 785.67, '12:00': 850.67, '13:00': 785.67, '14:00': 850.67, '15:00': 901.79, '16:00': 901.79, '17:00': 901.79, '18:00': 901.79, '19:00': 1021.67, '20:00': 1022.67, '21:00': 1021.67, '22:00': 965.67, '23:00': 901.79, '24:00': 855.67}, '2024-04-02': {'01:00': 1035.02, '02:00': 1025.14, '03:00': 1025.14, '04:00': 1025.14, '05:00': 1025.14, '06:00': 1035.02, '07:00': 1025.14, '08:00': 1025.14, '09:00': 1035.02, '10:00': 1025.14, '11:00': 1021.62, '12:00': 1025.14, '13:00': 1025.14, '14:00': 1025.14, '15:00': 1025.14, '16:00': 1025.14, '17:00': 1025.14, '18:00': 1025.14, '19:00': 1045.47, '20:00': 1045.47, '21:00': 1045.47, '22:00': 1035.02, '23:00': 1025.14, '24:00': 1025.14}, '2024-04-03': {'01:00': 1260.0, '02:00': 1245.0, '03:00': 1050.0, '04:00': 1050.0, '05:00': 1056.62, '06:00': 1245.0, '07:00': 1245.0, '08:00': 1245.0, '09:00': 1260.0, '10:00': 1260.0, '11:00': 1260.0, '12:00': 1260.0, '13:00': 1260.0, '14:00': 1260.0, '15:00': 1264.0, '16:00': 1265.0, '17:00': 1265.0, '18:00': 1262.0, '19:00': 1264.0, '20:00': 1264.0, '21:00': 1262.0, '22:00': 1264.0, '23:00': 1260.0, '24:00': 1245.0}, '2024-04-04': {'01:00': 1245.77, '02:00': 1150.77, '03:00': 1141.36, '04:00': 1016.77, '05:00': 1141.36, '06:00': 1004.56, '07:00': 709.42, '08:00': 965.77, '09:00': 965.77, '10:00': 1004.56, '11:00': 1004.56, '12:00': 1004.56, '13:00': 1004.56, '14:00': 1016.77, '15:00': 1141.36, '16:00': 1150.77, '17:00': 1245.77, '18:00': 1245.77, '19:00': 1245.77, '20:00': 1245.77, '21:00': 1245.77, '22:00': 1150.77, '23:00': 1016.77, '24:00': 850.77}, '2024-04-05': {'01:00': 836.12, '02:00': 759.37, '03:00': 502.12, '04:00': 502.12, '05:00': 759.37, '06:00': 840.12, '07:00': 840.12, '08:00': 840.12, '09:00': 966.12, '10:00': 1004.91, '11:00': 1006.12, '12:00': 1051.12, '13:00': 1006.12, '14:00': 1152.12, '15:00': 1152.12, '16:00': 1152.12, '17:00': 1152.12, '18:00': 1152.12, '19:00': 1152.12, '20:00': 1152.12, '21:00': 1152.12, '22:00': 1152.12, '23:00': 1051.12, '24:00': 1006.12}, '2024-04-06': {'01:00': 503.36, '02:00': 502.36, '03:00': 501.36, '04:00': 501.36, '05:00': 501.36, '06:00': 501.36, '07:00': 501.36, '08:00': 502.36, '09:00': 502.36, '10:00': 503.36, '11:00': 503.36, '12:00': 653.36, '13:00': 653.36, '14:00': 653.36, '15:00': 653.36, '16:00': 653.36, '17:00': 653.36, '18:00': 654.36, '19:00': 1058.36, '20:00': 1154.26, '21:00': 1058.36, '22:00': 1006.15, '23:00': 654.36, '24:00': 653.36}, '2024-04-07': {'01:00': 700.74, '02:00': 671.24, '03:00': 610.74, '04:00': 605.74, '05:00': 605.74, '06:00': 605.74, '07:00': 490.74, '08:00': 490.74, '09:00': 481.05, '10:00': 490.74, '11:00': 605.74, '12:00': 605.74, '13:00': 610.74, '14:00': 610.74, '15:00': 605.74, '16:00': 610.74, '17:00': 671.24, '18:00': 700.74, '19:00': 731.24, '20:00': 731.24, '21:00': 731.24, '22:00': 731.24, '23:00': 731.24, '24:00': 700.74}, '2024-04-08': {'01:00': 830.4, '02:00': 750.51, '03:00': 750.51, '04:00': 750.51, '05:00': 750.51, '06:00': 800.4, '07:00': 830.4, '08:00': 830.4, '09:00': 830.4, '10:00': 830.4, '11:00': 890.4, '12:00': 1025.4, '13:00': 965.4, '14:00': 1025.4, '15:00': None, '16:00': 1025.4, '17:00': 1025.4, '18:00': 1025.4, '19:00': 1025.4, '20:00': 1030.4, '21:00': 1025.4, '22:00': 1025.4, '23:00': 1025.4, '24:00': 890.4}, '2024-04-09': {'01:00': 1010.43, '02:00': 905.54, '03:00': 905.54, '04:00': 905.54, '05:00': 905.54, '06:00': 905.54, '07:00': 905.54, '08:00': 905.54, '09:00': 905.54, '10:00': 965.84, '11:00': 1011.43, '12:00': 1034.43, '13:00': 1034.43, '14:00': 1034.43, '15:00': None, '16:00': None, '17:00': None, '18:00': 1050.43, '19:00': 1050.43, '20:00': 1050.43, '21:00': 1050.43, '22:00': 1050.43, '23:00': 1020.43, '24:00': 1004.22}, '2024-04-10': {'01:00': 967.38, '02:00': 967.38, '03:00': 504.97, '04:00': 504.97, '05:00': 966.97, '06:00': 966.97, '07:00': 967.38, '08:00': 967.38, '09:00': 751.97, '10:00': 967.38, '11:00': 1006.97, '12:00': 1011.97, '13:00': 1011.97, '14:00': 1011.97, '15:00': 1011.97, '16:00': 1046.97, '17:00': 1046.97, '18:00': 1046.97, '19:00': 1046.97, '20:00': 1057.97, '21:00': 1046.97, '22:00': 1046.97, '23:00': 1046.97, '24:00': 1011.97}, '2024-04-11': {'01:00': 1005.79, '02:00': 1005.79, '03:00': 1005.79, '04:00': 1005.79, '05:00': 1005.79, '06:00': 1005.79, '07:00': 1005.79, '08:00': 1005.79, '09:00': 1005.79, '10:00': 1005.79, '11:00': 1005.79, '12:00': 1015.79, '13:00': 1015.79, '14:00': 1015.79, '15:00': 1061.79, '16:00': 1061.79, '17:00': 1061.79, '18:00': 1062.79, '19:00': 1063.79, '20:00': 1063.79, '21:00': 1062.79, '22:00': 1062.79, '23:00': 1056.79, '24:00': 1015.79}, '2024-04-12': {'01:00': 1020.02, '02:00': 1010.02, '03:00': 1010.02, '04:00': 1010.02, '05:00': 1010.02, '06:00': 1010.02, '07:00': 1010.02, '08:00': 1010.02, '09:00': 1010.02, '10:00': 1010.02, '11:00': 1020.02, '12:00': 1045.02, '13:00': 1045.02, '14:00': 1045.02, '15:00': 1056.02, '16:00': 1056.02, '17:00': 1056.02, '18:00': 1056.02, '19:00': 1056.02, '20:00': 1056.02, '21:00': 1056.02, '22:00': 1056.02, '23:00': 1056.02, '24:00': 1045.02}, '2024-04-13': {'01:00': 1020.02, '02:00': 1008.02, '03:00': 995.02, '04:00': 995.02, '05:00': 995.02, '06:00': 995.02, '07:00': 995.02, '08:00': 995.02, '09:00': 995.02, '10:00': 995.02, '11:00': 995.02, '12:00': 1020.02, '13:00': 1008.02, '14:00': 1008.02, '15:00': 1020.02, '16:00': 1020.02, '17:00': 1055.02, '18:00': 1055.02, '19:00': 1055.02, '20:00': 1055.02, '21:00': 1055.02, '22:00': 1055.02, '23:00': 1020.02, '24:00': 1003.81}, '2024-04-14': {'01:00': 1056.17, '02:00': 1055.62, '03:00': 1055.62, '04:00': 1055.62, '05:00': 1010.12, '06:00': 1010.12, '07:00': 1010.12, '08:00': 1005.12, '09:00': 1003.91, '10:00': 1010.12, '11:00': 1010.12, '12:00': 1010.12, '13:00': 1010.12, '14:00': 1010.12, '15:00': 1010.12, '16:00': 1055.62, '17:00': 1055.62, '18:00': 1056.17, '19:00': 1056.17, '20:00': 1056.17, '21:00': 1056.17, '22:00': 1056.17, '23:00': 1056.17, '24:00': 1056.17}}, 'total_days': 30}\n"
     ]
    }
   ],
   "source": [
    "import requests\n",
    "\n",
    "# Conseguir información\n",
    "baseurl = \"https://l2h237eh53.execute-api.us-east-1.amazonaws.com/dev/precios\"\n",
    "params_diction = {\n",
    "    \"start_date\": \"2024-03-15\",\n",
    "    \"end_date\": \"2024-04-14\"\n",
    "}\n",
    "try:\n",
    "    response_api = requests.get(baseurl, params=params_diction)\n",
    "    response_api.raise_for_status()  # Lanza una excepción para códigos de error HTTP \n",
    "    data = response_api.json()  \n",
    "    print(\"Datos obtenidos correctamente:\", data)\n",
    "except requests.exceptions.HTTPError as http_err:\n",
    "    print(f\"Error HTTP: {http_err}\")\n",
    "except requests.exceptions.ConnectionError as conn_err:\n",
    "    print(f\"Error de conexión: {conn_err}\")\n",
    "except requests.exceptions.Timeout as timeout_err:\n",
    "    print(f\"Error de tiempo de espera: {timeout_err}\")\n",
    "except requests.exceptions.RequestException as req_err:\n",
    "    print(f\"Error en la solicitud: {req_err}\")\n",
    "except ValueError as json_err:\n",
    "    print(f\"Error al convertir la respuesta a JSON: {json_err}\")"
   ]
  },
  {
   "cell_type": "code",
   "execution_count": 3,
   "metadata": {},
   "outputs": [
    {
     "name": "stdout",
     "output_type": "stream",
     "text": [
      "Keys que hay en el diccionario Data: dict_keys(['message', 'data', 'total_days'])\n",
      "Número total de días: 30\n"
     ]
    }
   ],
   "source": [
    "# Visualizacion de las claves del diccionario\n",
    "claves = data.keys()\n",
    "numero_total_dias = data['total_days'] \n",
    "\n",
    "print(f\"Keys que hay en el diccionario Data: {claves}\")\n",
    "print(f\"Número total de días: {numero_total_dias}\")"
   ]
  },
  {
   "cell_type": "markdown",
   "metadata": {},
   "source": [
    "### Procesamiendo de datos"
   ]
  },
  {
   "cell_type": "code",
   "execution_count": 4,
   "metadata": {},
   "outputs": [],
   "source": [
    "# Pasar de dict a dataframe\n",
    "df = pd.DataFrame(data['data'])\n",
    "df = df.reset_index()\n",
    "df = df.rename(columns={'index': 'hora'})\n",
    "df_long = pd.melt(df, id_vars=['hora'], var_name='fecha', value_name='precio')\n",
    "# Manejo de horas en df_long\n",
    "df_long['hora'] = df_long['hora'].str.replace('24:00', '00:00')  # Corrige la hora mal formateada\n",
    "# Pasar a formato datetime las fechas \n",
    "df_long['fecha']  = pd.to_datetime(df_long['fecha'])"
   ]
  },
  {
   "cell_type": "code",
   "execution_count": 5,
   "metadata": {},
   "outputs": [
    {
     "data": {
      "text/html": [
       "<div>\n",
       "<style scoped>\n",
       "    .dataframe tbody tr th:only-of-type {\n",
       "        vertical-align: middle;\n",
       "    }\n",
       "\n",
       "    .dataframe tbody tr th {\n",
       "        vertical-align: top;\n",
       "    }\n",
       "\n",
       "    .dataframe thead th {\n",
       "        text-align: right;\n",
       "    }\n",
       "</style>\n",
       "<table border=\"1\" class=\"dataframe\">\n",
       "  <thead>\n",
       "    <tr style=\"text-align: right;\">\n",
       "      <th></th>\n",
       "      <th>hora</th>\n",
       "      <th>fecha</th>\n",
       "      <th>precio</th>\n",
       "    </tr>\n",
       "  </thead>\n",
       "  <tbody>\n",
       "    <tr>\n",
       "      <th>0</th>\n",
       "      <td>01:00</td>\n",
       "      <td>2024-03-15</td>\n",
       "      <td>551.70</td>\n",
       "    </tr>\n",
       "    <tr>\n",
       "      <th>1</th>\n",
       "      <td>02:00</td>\n",
       "      <td>2024-03-15</td>\n",
       "      <td>551.70</td>\n",
       "    </tr>\n",
       "    <tr>\n",
       "      <th>2</th>\n",
       "      <td>03:00</td>\n",
       "      <td>2024-03-15</td>\n",
       "      <td>551.70</td>\n",
       "    </tr>\n",
       "    <tr>\n",
       "      <th>3</th>\n",
       "      <td>04:00</td>\n",
       "      <td>2024-03-15</td>\n",
       "      <td>497.36</td>\n",
       "    </tr>\n",
       "    <tr>\n",
       "      <th>4</th>\n",
       "      <td>05:00</td>\n",
       "      <td>2024-03-15</td>\n",
       "      <td>551.70</td>\n",
       "    </tr>\n",
       "  </tbody>\n",
       "</table>\n",
       "</div>"
      ],
      "text/plain": [
       "    hora      fecha  precio\n",
       "0  01:00 2024-03-15  551.70\n",
       "1  02:00 2024-03-15  551.70\n",
       "2  03:00 2024-03-15  551.70\n",
       "3  04:00 2024-03-15  497.36\n",
       "4  05:00 2024-03-15  551.70"
      ]
     },
     "execution_count": 5,
     "metadata": {},
     "output_type": "execute_result"
    }
   ],
   "source": [
    "df_long.head()\n"
   ]
  },
  {
   "cell_type": "code",
   "execution_count": 6,
   "metadata": {},
   "outputs": [
    {
     "name": "stdout",
     "output_type": "stream",
     "text": [
      "<class 'pandas.core.frame.DataFrame'>\n",
      "RangeIndex: 720 entries, 0 to 719\n",
      "Data columns (total 3 columns):\n",
      " #   Column  Non-Null Count  Dtype         \n",
      "---  ------  --------------  -----         \n",
      " 0   hora    720 non-null    object        \n",
      " 1   fecha   720 non-null    datetime64[ns]\n",
      " 2   precio  716 non-null    float64       \n",
      "dtypes: datetime64[ns](1), float64(1), object(1)\n",
      "memory usage: 17.0+ KB\n"
     ]
    }
   ],
   "source": [
    "df_long.info()"
   ]
  },
  {
   "cell_type": "code",
   "execution_count": 7,
   "metadata": {},
   "outputs": [
    {
     "data": {
      "text/html": [
       "<div>\n",
       "<style scoped>\n",
       "    .dataframe tbody tr th:only-of-type {\n",
       "        vertical-align: middle;\n",
       "    }\n",
       "\n",
       "    .dataframe tbody tr th {\n",
       "        vertical-align: top;\n",
       "    }\n",
       "\n",
       "    .dataframe thead th {\n",
       "        text-align: right;\n",
       "    }\n",
       "</style>\n",
       "<table border=\"1\" class=\"dataframe\">\n",
       "  <thead>\n",
       "    <tr style=\"text-align: right;\">\n",
       "      <th></th>\n",
       "      <th>fecha</th>\n",
       "      <th>precio</th>\n",
       "    </tr>\n",
       "  </thead>\n",
       "  <tbody>\n",
       "    <tr>\n",
       "      <th>count</th>\n",
       "      <td>720</td>\n",
       "      <td>716.000000</td>\n",
       "    </tr>\n",
       "    <tr>\n",
       "      <th>mean</th>\n",
       "      <td>2024-03-30 09:36:00</td>\n",
       "      <td>823.437318</td>\n",
       "    </tr>\n",
       "    <tr>\n",
       "      <th>min</th>\n",
       "      <td>2024-03-15 00:00:00</td>\n",
       "      <td>464.950000</td>\n",
       "    </tr>\n",
       "    <tr>\n",
       "      <th>25%</th>\n",
       "      <td>2024-03-23 00:00:00</td>\n",
       "      <td>653.360000</td>\n",
       "    </tr>\n",
       "    <tr>\n",
       "      <th>50%</th>\n",
       "      <td>2024-03-30 12:00:00</td>\n",
       "      <td>801.630000</td>\n",
       "    </tr>\n",
       "    <tr>\n",
       "      <th>75%</th>\n",
       "      <td>2024-04-07 00:00:00</td>\n",
       "      <td>1010.120000</td>\n",
       "    </tr>\n",
       "    <tr>\n",
       "      <th>max</th>\n",
       "      <td>2024-04-14 00:00:00</td>\n",
       "      <td>1265.000000</td>\n",
       "    </tr>\n",
       "    <tr>\n",
       "      <th>std</th>\n",
       "      <td>NaN</td>\n",
       "      <td>198.559929</td>\n",
       "    </tr>\n",
       "  </tbody>\n",
       "</table>\n",
       "</div>"
      ],
      "text/plain": [
       "                     fecha       precio\n",
       "count                  720   716.000000\n",
       "mean   2024-03-30 09:36:00   823.437318\n",
       "min    2024-03-15 00:00:00   464.950000\n",
       "25%    2024-03-23 00:00:00   653.360000\n",
       "50%    2024-03-30 12:00:00   801.630000\n",
       "75%    2024-04-07 00:00:00  1010.120000\n",
       "max    2024-04-14 00:00:00  1265.000000\n",
       "std                    NaN   198.559929"
      ]
     },
     "execution_count": 7,
     "metadata": {},
     "output_type": "execute_result"
    }
   ],
   "source": [
    "df_long.describe()"
   ]
  },
  {
   "cell_type": "code",
   "execution_count": 8,
   "metadata": {},
   "outputs": [
    {
     "name": "stdout",
     "output_type": "stream",
     "text": [
      "Valores nulos por columna:\n",
      " hora      0\n",
      "fecha     0\n",
      "precio    4\n",
      "dtype: int64\n"
     ]
    }
   ],
   "source": [
    "# Indentifiacion de valores nulos o faltantes\n",
    "print(\"Valores nulos por columna:\\n\",df_long.isnull().sum())\n"
   ]
  },
  {
   "cell_type": "markdown",
   "metadata": {},
   "source": [
    "### Tratamiento de Datos Faltantes"
   ]
  },
  {
   "cell_type": "code",
   "execution_count": 9,
   "metadata": {},
   "outputs": [
    {
     "data": {
      "text/html": [
       "<div>\n",
       "<style scoped>\n",
       "    .dataframe tbody tr th:only-of-type {\n",
       "        vertical-align: middle;\n",
       "    }\n",
       "\n",
       "    .dataframe tbody tr th {\n",
       "        vertical-align: top;\n",
       "    }\n",
       "\n",
       "    .dataframe thead th {\n",
       "        text-align: right;\n",
       "    }\n",
       "</style>\n",
       "<table border=\"1\" class=\"dataframe\">\n",
       "  <thead>\n",
       "    <tr style=\"text-align: right;\">\n",
       "      <th></th>\n",
       "      <th>hora</th>\n",
       "      <th>fecha</th>\n",
       "      <th>precio</th>\n",
       "    </tr>\n",
       "  </thead>\n",
       "  <tbody>\n",
       "    <tr>\n",
       "      <th>566</th>\n",
       "      <td>15:00</td>\n",
       "      <td>2024-04-08</td>\n",
       "      <td>NaN</td>\n",
       "    </tr>\n",
       "    <tr>\n",
       "      <th>590</th>\n",
       "      <td>15:00</td>\n",
       "      <td>2024-04-09</td>\n",
       "      <td>NaN</td>\n",
       "    </tr>\n",
       "    <tr>\n",
       "      <th>591</th>\n",
       "      <td>16:00</td>\n",
       "      <td>2024-04-09</td>\n",
       "      <td>NaN</td>\n",
       "    </tr>\n",
       "    <tr>\n",
       "      <th>592</th>\n",
       "      <td>17:00</td>\n",
       "      <td>2024-04-09</td>\n",
       "      <td>NaN</td>\n",
       "    </tr>\n",
       "  </tbody>\n",
       "</table>\n",
       "</div>"
      ],
      "text/plain": [
       "      hora      fecha  precio\n",
       "566  15:00 2024-04-08     NaN\n",
       "590  15:00 2024-04-09     NaN\n",
       "591  16:00 2024-04-09     NaN\n",
       "592  17:00 2024-04-09     NaN"
      ]
     },
     "execution_count": 9,
     "metadata": {},
     "output_type": "execute_result"
    }
   ],
   "source": [
    "df_long[df_long['precio'].isnull()]"
   ]
  },
  {
   "cell_type": "code",
   "execution_count": 10,
   "metadata": {},
   "outputs": [
    {
     "name": "stdout",
     "output_type": "stream",
     "text": [
      "Index([566, 590, 591, 592], dtype='int64')\n"
     ]
    }
   ],
   "source": [
    "print(df_long[df_long['precio'].isnull()].index)"
   ]
  },
  {
   "cell_type": "code",
   "execution_count": 11,
   "metadata": {},
   "outputs": [
    {
     "data": {
      "text/plain": [
       "hora      0\n",
       "fecha     0\n",
       "precio    0\n",
       "dtype: int64"
      ]
     },
     "execution_count": 11,
     "metadata": {},
     "output_type": "execute_result"
    }
   ],
   "source": [
    "df_faltantes_indices = df_long[df_long['precio'].isnull()].index\n",
    "for indice in df_faltantes_indices:\n",
    "    df_long.loc[indice, 'precio'] = df_long.loc[indice-1, 'precio']\n",
    "df_long.isnull().sum()"
   ]
  },
  {
   "cell_type": "code",
   "execution_count": 12,
   "metadata": {},
   "outputs": [],
   "source": [
    "df_long_complete = df_long.copy()\n",
    "for indice in df_faltantes_indices:\n",
    "    df_long_complete.loc[indice, 'precio'] = np.mean(df_long.loc[indice-3:indice+3,'precio'])"
   ]
  },
  {
   "cell_type": "markdown",
   "metadata": {},
   "source": [
    "### Cálculos de Promedios"
   ]
  },
  {
   "cell_type": "code",
   "execution_count": 13,
   "metadata": {},
   "outputs": [],
   "source": [
    "# promedio diario de precios\n",
    "agrupacion_dias = df_long_complete.groupby(['fecha'])\n",
    "promedios_por_fecha = agrupacion_dias['precio'].mean().reset_index()\n",
    "promedios_por_fecha.rename(columns={'precio': 'precio_promedio'}, inplace=True)\n",
    "# promedio móvil de 7 días de los precios diarios.\n",
    "# Aplicar rolling sobre la columna 'precio' agrupado por la 'fecha'\n",
    "promedios_por_fecha['precio_7d'] = agrupacion_dias['precio'].rolling(window=7, min_periods=1, center= True).mean().reset_index(level=0, drop=True)"
   ]
  },
  {
   "cell_type": "code",
   "execution_count": 14,
   "metadata": {},
   "outputs": [
    {
     "data": {
      "text/html": [
       "<div>\n",
       "<style scoped>\n",
       "    .dataframe tbody tr th:only-of-type {\n",
       "        vertical-align: middle;\n",
       "    }\n",
       "\n",
       "    .dataframe tbody tr th {\n",
       "        vertical-align: top;\n",
       "    }\n",
       "\n",
       "    .dataframe thead th {\n",
       "        text-align: right;\n",
       "    }\n",
       "</style>\n",
       "<table border=\"1\" class=\"dataframe\">\n",
       "  <thead>\n",
       "    <tr style=\"text-align: right;\">\n",
       "      <th></th>\n",
       "      <th>fecha</th>\n",
       "      <th>precio_promedio</th>\n",
       "      <th>precio_7d</th>\n",
       "    </tr>\n",
       "  </thead>\n",
       "  <tbody>\n",
       "    <tr>\n",
       "      <th>0</th>\n",
       "      <td>2024-03-15</td>\n",
       "      <td>557.669167</td>\n",
       "      <td>538.115000</td>\n",
       "    </tr>\n",
       "    <tr>\n",
       "      <th>1</th>\n",
       "      <td>2024-03-16</td>\n",
       "      <td>574.449167</td>\n",
       "      <td>540.832000</td>\n",
       "    </tr>\n",
       "    <tr>\n",
       "      <th>2</th>\n",
       "      <td>2024-03-17</td>\n",
       "      <td>581.365000</td>\n",
       "      <td>542.643333</td>\n",
       "    </tr>\n",
       "    <tr>\n",
       "      <th>3</th>\n",
       "      <td>2024-03-19</td>\n",
       "      <td>617.401667</td>\n",
       "      <td>543.937143</td>\n",
       "    </tr>\n",
       "    <tr>\n",
       "      <th>4</th>\n",
       "      <td>2024-03-20</td>\n",
       "      <td>625.661667</td>\n",
       "      <td>546.408571</td>\n",
       "    </tr>\n",
       "  </tbody>\n",
       "</table>\n",
       "</div>"
      ],
      "text/plain": [
       "       fecha  precio_promedio   precio_7d\n",
       "0 2024-03-15       557.669167  538.115000\n",
       "1 2024-03-16       574.449167  540.832000\n",
       "2 2024-03-17       581.365000  542.643333\n",
       "3 2024-03-19       617.401667  543.937143\n",
       "4 2024-03-20       625.661667  546.408571"
      ]
     },
     "execution_count": 14,
     "metadata": {},
     "output_type": "execute_result"
    }
   ],
   "source": [
    "promedios_por_fecha.head()"
   ]
  },
  {
   "cell_type": "markdown",
   "metadata": {},
   "source": [
    "### Visualización"
   ]
  },
  {
   "cell_type": "code",
   "execution_count": 15,
   "metadata": {},
   "outputs": [
    {
     "data": {
      "image/png": "[encoded data removed]",
      "text/plain": [
       "<Figure size 1000x700 with 1 Axes>"
      ]
     },
     "metadata": {},
     "output_type": "display_data"
    }
   ],
   "source": [
    "# Creación gráfica\n",
    "plt.figure(figsize=(10, 7))\n",
    "plt.plot(promedios_por_fecha['fecha'], promedios_por_fecha['precio_promedio'], label='Promedio Diario', color='blue', marker='o')\n",
    "plt.plot(promedios_por_fecha['fecha'], promedios_por_fecha['precio_7d'], label='Promedio Móvil 7 Días', color='red',  marker='o')\n",
    "\n",
    "plt.title('Comparación de Promedio Diario vs Promedio Móvil de 7 Días')\n",
    "plt.xlabel('Fecha', fontsize = 10)\n",
    "plt.ylabel('Precio Promedio',fontsize = 10)\n",
    "plt.legend(title='Tipo de Promedio')\n",
    "plt.grid(linestyle='--', alpha=0.7)\n",
    "plt.tight_layout() \n",
    "# Almacenar la gráfica como 'image.png'\n",
    "plt.savefig('image.png')\n",
    "plt.show()"
   ]
  },
  {
   "cell_type": "markdown",
   "metadata": {},
   "source": [
    "<h3>Análisis Rápido del Comportamiento de los Datos</h3>\n",
    "\n",
    "<p>\n",
    "<b>Promedio Diario:</b> Los datos visualizados muestran cómo varía el precio promedio para cada fecha, presentando fluctuaciones de mayor a menor escala según el período. Un ejemplo de esto es el precio más alto registrado en todas las fechas, aproximadamente 1200, correspondiente al período entre el 2024-04-01 y el 2024-04-05. En solo 4 días, el valor pasó de tener un valor medio a uno anormalmente alto. \n",
    "</p>\n",
    "<p>\n",
    "<b>Promedio Móvil de 7 Días:</b> Estos datos permiten obtener una visión más clara del comportamiento general durante ese intervalo de tiempo, mostrando la tendencia general del precio y suavizando los picos y valles.\n",
    "</p>\n",
    "\n"
   ]
  },
  {
   "cell_type": "markdown",
   "metadata": {},
   "source": [
    "### Almacenamiento de Resultados "
   ]
  },
  {
   "cell_type": "code",
   "execution_count": 16,
   "metadata": {},
   "outputs": [],
   "source": [
    "# Convertir la columna 'fecha' a string en formato YYYY-MM-DD \n",
    "promedios_por_fecha['fecha'] = promedios_por_fecha['fecha'].dt.strftime('%Y-%m-%d')"
   ]
  },
  {
   "cell_type": "code",
   "execution_count": 17,
   "metadata": {},
   "outputs": [
    {
     "name": "stdout",
     "output_type": "stream",
     "text": [
      "Conectando a la base de datos en: precios.sqlite\n",
      "Datos insertados y tabla creada correctamente.\n"
     ]
    }
   ],
   "source": [
    "try:\n",
    "    # Conexión a la base de datos (se crea en el directorio actual)\n",
    "    db_filename = 'precios.sqlite'\n",
    "    print(f\"Conectando a la base de datos en: {db_filename}\")\n",
    "    conn = sqlite3.connect(db_filename)\n",
    "    cursor = conn.cursor()\n",
    "\n",
    "    # Eliminar la tabla si ya existe (para sobreescribirla)\n",
    "    cursor.execute('DROP TABLE IF EXISTS Precios')\n",
    "\n",
    "    # Creación de la tabla contratos\n",
    "    cursor.execute('''\n",
    "    CREATE TABLE precios (\n",
    "        fecha DATETIME,     \n",
    "        precio_promedio FLOAT,\n",
    "        precio_7d  FLOAT\n",
    "    );\n",
    "    ''')\n",
    "\n",
    "    # Convertir el DataFrame a una lista de tuplas, asegurándose de que solo se incluyan las columnas necesarias\n",
    "    datos_precios = list(promedios_por_fecha[['fecha', 'precio_promedio', 'precio_7d']].itertuples(index=False, name=None))\n",
    "\n",
    "    # Insertar los datos en la tabla precios\n",
    "    cursor.executemany(\"INSERT INTO precios (fecha, precio_promedio, precio_7d) VALUES (?,?,?)\", datos_precios)\n",
    "\n",
    "    # Confirmar y cerrar la conexión\n",
    "    conn.commit()\n",
    "    conn.close()\n",
    "\n",
    "    print(\"Datos insertados y tabla creada correctamente.\")\n",
    "\n",
    "except sqlite3.OperationalError as e:\n",
    "    print(f\"Error de operación de SQLite: {e}\")\n",
    "except Exception as e:\n",
    "    print(f\"Error general: {e}\")\n"
   ]
  }
 ],
 "metadata": {
  "kernelspec": {
   "display_name": "Python 3",
   "language": "python",
   "name": "python3"
  },
  "language_info": {
   "codemirror_mode": {
    "name": "ipython",
    "version": 3
   },
   "file_extension": ".py",
   "mimetype": "text/x-python",
   "name": "python",
   "nbconvert_exporter": "python",
   "pygments_lexer": "ipython3",
   "version": "3.12.0"
  }
 },
 "nbformat": 4,
 "nbformat_minor": 2
}
